{
 "cells": [
  {
   "cell_type": "code",
   "execution_count": 1,
   "metadata": {},
   "outputs": [],
   "source": [
    "%run 'naoqi/naoqi.py'\n",
    "%run 'naoqi/almath.py'"
   ]
  },
  {
   "cell_type": "code",
   "execution_count": 2,
   "metadata": {},
   "outputs": [],
   "source": [
    "import sys\n",
    "import motion\n",
    "import time\n",
    "import math"
   ]
  },
  {
   "cell_type": "code",
   "execution_count": 3,
   "metadata": {},
   "outputs": [],
   "source": [
    "robotIP = \"169.254.226.148\" # A changer selon les cas"
   ]
  },
  {
   "cell_type": "code",
   "execution_count": 5,
   "metadata": {},
   "outputs": [],
   "source": [
    "# Ouvre les connexions\n",
    "motionProxy = ALProxy(\"ALMotion\", robotIP, 9559) \n",
    "postureProxy = ALProxy(\"ALRobotPosture\", robotIP, 9559)"
   ]
  },
  {
   "cell_type": "code",
   "execution_count": 6,
   "metadata": {},
   "outputs": [],
   "source": [
    "def StiffnessOn(proxy):\n",
    "  #We use the \"Body\" name to signify the collection of all joints\n",
    "  pNames = \"Body\"\n",
    "  pStiffnessLists = 1.0\n",
    "  pTimeLists = 1.0\n",
    "  proxy.stiffnessInterpolation(pNames, pStiffnessLists, pTimeLists)\n",
    "\n",
    "def StiffnessOff(proxy):\n",
    "  #We use the \"Body\" name to signify the collection of all joints\n",
    "  pNames = \"Body\"\n",
    "  pStiffnessLists = 0\n",
    "  pTimeLists = 1.0\n",
    "  proxy.stiffnessInterpolation(pNames, pStiffnessLists, pTimeLists)\n"
   ]
  },
  {
   "cell_type": "code",
   "execution_count": 9,
   "metadata": {},
   "outputs": [],
   "source": [
    "StiffnessOff(motionProxy)"
   ]
  },
  {
   "cell_type": "code",
   "execution_count": 10,
   "metadata": {},
   "outputs": [],
   "source": [
    "StiffnessOn(motionProxy)"
   ]
  },
  {
   "cell_type": "code",
   "execution_count": 11,
   "metadata": {},
   "outputs": [
    {
     "data": {
      "text/plain": [
       "True"
      ]
     },
     "execution_count": 11,
     "metadata": {},
     "output_type": "execute_result"
    }
   ],
   "source": [
    "postureProxy.goToPosture(\"StandInit\", 0.5)"
   ]
  },
  {
   "cell_type": "code",
   "execution_count": 194,
   "metadata": {},
   "outputs": [],
   "source": [
    "def cartesian_control():\n",
    "    # Setting posture StandInit before hand is mandatory\n",
    "    effector   = \"LArm\"\n",
    "    space      = motion.FRAME_ROBOT\n",
    "    path       = [ # Chemin représenté comme un ligne de points\n",
    "     [0.0, +0.025, +0.00, 0.0, 0.0, 0.0],        # point 1\n",
    "     [0.025, +0.0, +0.00, 0.0, 0.0, 0.0],        # point 2\n",
    "     [0.0, -0.025, +0.00, 0.0, 0.0, 0.0],        # point 3\n",
    "     [-0.025, +0.0, -0.00, 0.0, 0.0, 0.0]]#,        # point 4\n",
    "   #  [0.0, -0.05, +0.00, 0.0, 0.0, 0.0],        # point 5\n",
    "   #  [0.0, +0.05, +0.00, 0.0, 0.0, 0.0]] \n",
    "    axisMask = 7\n",
    "    # Moment auxquel on doit passer aux points considérés\n",
    "    times = [1, 2.0, 3.0, 4.0]#, 4.0, 4.5] # seconds\n",
    "    isAbsolute = False\n",
    "    \n",
    "    motionProxy.positionInterpolation(effector, space,\n",
    "            path,axisMask, times, isAbsolute)"
   ]
  },
  {
   "cell_type": "code",
   "execution_count": null,
   "metadata": {},
   "outputs": [],
   "source": [
    "cartesian_control()"
   ]
  },
  {
   "cell_type": "code",
   "execution_count": 195,
   "metadata": {},
   "outputs": [],
   "source": [
    "pi = math.pi\n",
    "\n",
    "def radian(a):\n",
    "    return a * pi / 180\n",
    "\n",
    "def angles():\n",
    "    # Exemples de positionnement avec les angles\n",
    "    motionProxy.setStiffnesses(\"LArm\", 1.0)\n",
    "\n",
    "    # Example showing how to set angles, using a fraction of max speed\n",
    "    names  = [\"LShoulderPitch\", \"LElbowYaw\"]\n",
    "    angles  = [radian(0), radian(0)]\n",
    "    fractionMaxSpeed  = 0.1\n",
    "    motionProxy.setAngles(names, angles, fractionMaxSpeed)\n",
    "\n",
    "    time.sleep(3.0)\n",
    "    #motionProxy.setStiffnesses(\"LArm\", 0.0)\n"
   ]
  },
  {
   "cell_type": "code",
   "execution_count": 189,
   "metadata": {},
   "outputs": [],
   "source": [
    "angles()"
   ]
  },
  {
   "cell_type": "code",
   "execution_count": 197,
   "metadata": {},
   "outputs": [],
   "source": [
    "def angle2():\n",
    "    # Example showing multiple trajectories\n",
    "    names  = [\"LShoulderPitch\",\"LElbowRoll\",\"LElbowYaw\"]\n",
    "    # Each joint can have lists of different lengths, but the number of\n",
    "    # angles and the number of times must be the same for each joint.\n",
    "    angleLists  = [ [30*TO_RAD,0],\n",
    "                    [-50.0*TO_RAD, 0.0],\n",
    "                   [-30.0*TO_RAD, 30.0*TO_RAD, 0.0]]\n",
    "    timeLists   = [[1.0,6.0],[2.0, 3.0], [ 2.0, 3.0, 4.0]]\n",
    "    isAbsolute  = True\n",
    "    motionProxy.angleInterpolation(names, angleLists, timeLists, isAbsolute)\n",
    "    "
   ]
  },
  {
   "cell_type": "code",
   "execution_count": 198,
   "metadata": {},
   "outputs": [],
   "source": [
    "angle2()"
   ]
  },
  {
   "cell_type": "code",
   "execution_count": null,
   "metadata": {},
   "outputs": [],
   "source": []
  }
 ],
 "metadata": {
  "kernelspec": {
   "display_name": "Python 2",
   "language": "python",
   "name": "python2"
  },
  "language_info": {
   "codemirror_mode": {
    "name": "ipython",
    "version": 2
   },
   "file_extension": ".py",
   "mimetype": "text/x-python",
   "name": "python",
   "nbconvert_exporter": "python",
   "pygments_lexer": "ipython2",
   "version": "2.7.15rc1"
  }
 },
 "nbformat": 4,
 "nbformat_minor": 2
}
