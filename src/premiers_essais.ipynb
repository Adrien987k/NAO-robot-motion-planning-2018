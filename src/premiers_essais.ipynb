{
 "cells": [
  {
   "cell_type": "code",
   "execution_count": 1,
   "metadata": {},
   "outputs": [],
   "source": [
    "%run 'naoqi/naoqi.py'\n",
    "%run 'naoqi/almath.py'"
   ]
  },
  {
   "cell_type": "code",
   "execution_count": 2,
   "metadata": {},
   "outputs": [],
   "source": [
    "import sys\n",
    "import motion\n",
    "import time\n",
    "import math\n",
    "import numpy as np"
   ]
  },
  {
   "cell_type": "code",
   "execution_count": 3,
   "metadata": {},
   "outputs": [],
   "source": [
    "robotIP = \"169.254.226.148\" # A changer selon les cas"
   ]
  },
  {
   "cell_type": "code",
   "execution_count": 106,
   "metadata": {},
   "outputs": [],
   "source": [
    "robotIP = \"169.254.210.108\""
   ]
  },
  {
   "cell_type": "code",
   "execution_count": 4,
   "metadata": {},
   "outputs": [],
   "source": [
    "robotIP = \"127.0.0.1\""
   ]
  },
  {
   "cell_type": "code",
   "execution_count": 4,
   "metadata": {},
   "outputs": [],
   "source": [
    "# Ouvre les connexions\n",
    "motionProxy = ALProxy(\"ALMotion\", robotIP, 9559) \n",
    "postureProxy = ALProxy(\"ALRobotPosture\", robotIP, 9559)"
   ]
  },
  {
   "cell_type": "code",
   "execution_count": 5,
   "metadata": {},
   "outputs": [],
   "source": [
    "def StiffnessOn(proxy):\n",
    "  #We use the \"Body\" name to signify the collection of all joints\n",
    "  pNames = \"Body\"\n",
    "  pStiffnessLists = 1.0\n",
    "  pTimeLists = 1.0\n",
    "  proxy.stiffnessInterpolation(pNames, pStiffnessLists, pTimeLists)\n",
    "\n",
    "def StiffnessOff(proxy):\n",
    "  #We use the \"Body\" name to signify the collection of all joints\n",
    "  pNames = \"Body\"\n",
    "  pStiffnessLists = 0\n",
    "  pTimeLists = 1.0\n",
    "  proxy.stiffnessInterpolation(pNames, pStiffnessLists, pTimeLists)\n",
    "\n",
    "def StiffnessOnArm(proxy):\n",
    "  #We use the \"Body\" name to signify the collection of all joints\n",
    "  pNames = \"LArm\"\n",
    "  pStiffnessLists = 1.0\n",
    "  pTimeLists = 1.0\n",
    "  proxy.stiffnessInterpolation(pNames, pStiffnessLists, pTimeLists)\n",
    "\n",
    "def StiffnessOffArm(proxy):\n",
    "  #We use the \"Body\" name to signify the collection of all joints\n",
    "  pNames = \"LArm\"\n",
    "  pStiffnessLists = 0\n",
    "  pTimeLists = 1.0\n",
    "  proxy.stiffnessInterpolation(pNames, pStiffnessLists, pTimeLists)\n"
   ]
  },
  {
   "cell_type": "code",
   "execution_count": 22,
   "metadata": {},
   "outputs": [],
   "source": [
    "StiffnessOff(motionProxy)"
   ]
  },
  {
   "cell_type": "code",
   "execution_count": 6,
   "metadata": {},
   "outputs": [],
   "source": [
    "StiffnessOn(motionProxy)"
   ]
  },
  {
   "cell_type": "code",
   "execution_count": 112,
   "metadata": {},
   "outputs": [
    {
     "data": {
      "text/plain": [
       "True"
      ]
     },
     "execution_count": 112,
     "metadata": {},
     "output_type": "execute_result"
    }
   ],
   "source": [
    "postureProxy.goToPosture(\"StandZero\", 0.5)"
   ]
  },
  {
   "cell_type": "code",
   "execution_count": 49,
   "metadata": {},
   "outputs": [],
   "source": [
    "StiffnessOffArm(motionProxy)"
   ]
  },
  {
   "cell_type": "code",
   "execution_count": 50,
   "metadata": {},
   "outputs": [],
   "source": [
    "StiffnessOnArm(motionProxy)"
   ]
  },
  {
   "cell_type": "code",
   "execution_count": 32,
   "metadata": {},
   "outputs": [],
   "source": [
    "p = motionProxy.getPosition(\"LArm\",0,True)\n"
   ]
  },
  {
   "cell_type": "code",
   "execution_count": 35,
   "metadata": {},
   "outputs": [
    {
     "data": {
      "text/plain": [
       "[0.16392914950847626, 0.0388508178293705, 0.03919321298599243, 0, 0, 0]"
      ]
     },
     "execution_count": 35,
     "metadata": {},
     "output_type": "execute_result"
    }
   ],
   "source": [
    "p[3:]=[0,0,0]\n",
    "p\n",
    "motionProxy.positionInterpolation(\"LArm\", 0,\n",
    "            path,axisMask, times, isAbsolute)"
   ]
  },
  {
   "cell_type": "code",
   "execution_count": 194,
   "metadata": {},
   "outputs": [],
   "source": [
    "def cartesian_control():\n",
    "    # Setting posture StandInit before hand is mandatory\n",
    "    effector   = \"LArm\"\n",
    "    space      = motion.FRAME_ROBOT\n",
    "    path       = [ # Chemin représenté comme un ligne de points\n",
    "     [0.0, +0.025, +0.00, 0.0, 0.0, 0.0],        # point 1\n",
    "     [0.025, +0.0, +0.00, 0.0, 0.0, 0.0],        # point 2\n",
    "     [0.0, -0.025, +0.00, 0.0, 0.0, 0.0],        # point 3\n",
    "     [-0.025, +0.0, -0.00, 0.0, 0.0, 0.0]]#,        # point 4\n",
    "   #  [0.0, -0.05, +0.00, 0.0, 0.0, 0.0],        # point 5\n",
    "   #  [0.0, +0.05, +0.00, 0.0, 0.0, 0.0]] \n",
    "    axisMask = 7\n",
    "    # Moment auxquel on doit passer aux points considérés\n",
    "    times = [1, 2.0, 3.0, 4.0]#, 4.0, 4.5] # seconds\n",
    "    isAbsolute = False\n",
    "    \n",
    "    motionProxy.positionInterpolation(effector, space,\n",
    "            path,axisMask, times, isAbsolute)"
   ]
  },
  {
   "cell_type": "code",
   "execution_count": null,
   "metadata": {},
   "outputs": [],
   "source": [
    "cartesian_control()"
   ]
  },
  {
   "cell_type": "code",
   "execution_count": 16,
   "metadata": {},
   "outputs": [
    {
     "name": "stdout",
     "output_type": "stream",
     "text": [
      "[0.0, 0.0, 0.0, 0.0, 0.0, 0.0]\n"
     ]
    }
   ],
   "source": [
    "import pickle\n",
    "with open(\"config_init.pickle\",\"rb\") as f:\n",
    "    q = pickle.load(f)\n",
    "\n",
    "names = ['LShoulderPitch', 'LShoulderRoll', 'LElbowYaw', 'LElbowRoll', 'LWristYaw', 'LHand']\n",
    "\n",
    "q = [float(q[15])] + [float(q[16])] + [float(q[17])] + [float(q[18])] + [float(q[19])] + [float(q[32])]\n",
    "print(q)\n"
   ]
  },
  {
   "cell_type": "code",
   "execution_count": 17,
   "metadata": {},
   "outputs": [],
   "source": [
    "pi = math.pi\n",
    "\n",
    "def radian(a):\n",
    "    return a * pi / 180\n",
    "\n",
    "def angles():\n",
    "    # Exemples de positionnement avec les angles\n",
    "    motionProxy.setStiffnesses(\"LArm\", 1.0)\n",
    "\n",
    "    # Example showing how to set angles, using a fraction of max speed\n",
    "    #names  = [\"LShoulderPitch\", \"LElbowYaw\"]\n",
    "    angles  = q\n",
    "    fractionMaxSpeed  = 0.1\n",
    "    motionProxy.setAngles(names, angles, fractionMaxSpeed)\n",
    "\n",
    "    time.sleep(3.0)\n",
    "    #motionProxy.setStiffnesses(\"LArm\", 0.0)\n"
   ]
  },
  {
   "cell_type": "code",
   "execution_count": 18,
   "metadata": {},
   "outputs": [],
   "source": [
    "angles()"
   ]
  },
  {
   "cell_type": "code",
   "execution_count": 197,
   "metadata": {},
   "outputs": [],
   "source": [
    "def angle2():\n",
    "    # Example showing multiple trajectories\n",
    "    names  = [\"LShoulderPitch\",\"LElbowRoll\",\"LElbowYaw\"]\n",
    "    # Each joint can have lists of different lengths, but the number of\n",
    "    # angles and the number of times must be the same for each joint.\n",
    "    angleLists  = [ [30*TO_RAD,0],\n",
    "                    [-50.0*TO_RAD, 0.0],\n",
    "                   [-30.0*TO_RAD, 30.0*TO_RAD, 0.0]]\n",
    "    timeLists   = [[1.0,6.0],[2.0, 3.0], [ 2.0, 3.0, 4.0]]\n",
    "    isAbsolute  = True\n",
    "    motionProxy.angleInterpolation(names, angleLists, timeLists, isAbsolute)\n",
    "    "
   ]
  },
  {
   "cell_type": "code",
   "execution_count": 198,
   "metadata": {},
   "outputs": [],
   "source": [
    "angle2()"
   ]
  },
  {
   "cell_type": "code",
   "execution_count": 21,
   "metadata": {},
   "outputs": [],
   "source": [
    "p1 = motionProxy.getAngles([\"LShoulderPitch\", \"LShoulderRoll\", \"LElbowYaw\", \"LElbowRoll\", \"LWristYaw\", \"LHand\"],True)"
   ]
  },
  {
   "cell_type": "code",
   "execution_count": 22,
   "metadata": {},
   "outputs": [],
   "source": [
    "p2 = motionProxy.getAngles([\"LShoulderPitch\", \"LShoulderRoll\", \"LElbowYaw\", \"LElbowRoll\", \"LWristYaw\", \"LHand\"],True)"
   ]
  },
  {
   "cell_type": "code",
   "execution_count": 23,
   "metadata": {},
   "outputs": [],
   "source": [
    "p3 = motionProxy.getAngles([\"LShoulderPitch\", \"LShoulderRoll\", \"LElbowYaw\", \"LElbowRoll\", \"LWristYaw\", \"LHand\"],True)"
   ]
  },
  {
   "cell_type": "code",
   "execution_count": 24,
   "metadata": {},
   "outputs": [],
   "source": [
    "config = np.vstack((p1,p2,p3))"
   ]
  },
  {
   "cell_type": "code",
   "execution_count": 25,
   "metadata": {},
   "outputs": [
    {
     "data": {
      "text/plain": [
       "(3, 6)"
      ]
     },
     "execution_count": 25,
     "metadata": {},
     "output_type": "execute_result"
    }
   ],
   "source": [
    "config.shape\n"
   ]
  },
  {
   "cell_type": "code",
   "execution_count": 26,
   "metadata": {},
   "outputs": [],
   "source": [
    "config = config.T.reshape((6,3))"
   ]
  },
  {
   "cell_type": "code",
   "execution_count": 27,
   "metadata": {},
   "outputs": [
    {
     "data": {
      "text/plain": [
       "[[-0.1181599572300911, -0.10281995683908463, -0.01691596210002899],\n",
       " [0.5307220220565796, 0.5307220220565796, 0.25920403003692627],\n",
       " [0.050580039620399475, 0.013764038681983948, -0.05373196303844452],\n",
       " [-1.4894720315933228, -1.2501680850982666, -1.251702070236206],\n",
       " [-1.5754599571228027, -1.507964015007019, -1.4910900592803955],\n",
       " [1.0, 1.0, 1.0]]"
      ]
     },
     "execution_count": 27,
     "metadata": {},
     "output_type": "execute_result"
    }
   ],
   "source": [
    "config.tolist()\n"
   ]
  },
  {
   "cell_type": "code",
   "execution_count": null,
   "metadata": {},
   "outputs": [],
   "source": []
  }
 ],
 "metadata": {
  "kernelspec": {
   "display_name": "Python 2",
   "language": "python",
   "name": "python2"
  },
  "language_info": {
   "codemirror_mode": {
    "name": "ipython",
    "version": 2
   },
   "file_extension": ".py",
   "mimetype": "text/x-python",
   "name": "python",
   "nbconvert_exporter": "python",
   "pygments_lexer": "ipython2",
   "version": "2.7.15rc1"
  }
 },
 "nbformat": 4,
 "nbformat_minor": 2
}
